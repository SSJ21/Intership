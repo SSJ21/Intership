{
 "cells": [
  {
   "cell_type": "raw",
   "id": "c43c6513",
   "metadata": {},
   "source": [
    "Q.1 Web Scrapping for Naukri Website for  DATA Analyst"
   ]
  },
  {
   "cell_type": "code",
   "execution_count": 1,
   "id": "7043bf32",
   "metadata": {},
   "outputs": [
    {
     "name": "stdout",
     "output_type": "stream",
     "text": [
      "Requirement already satisfied: selenium in c:\\users\\20130368\\anaconda3\\lib\\site-packages (4.1.0)\n",
      "Requirement already satisfied: urllib3[secure]~=1.26 in c:\\users\\20130368\\anaconda3\\lib\\site-packages (from selenium) (1.26.4)\n",
      "Requirement already satisfied: trio-websocket~=0.9 in c:\\users\\20130368\\anaconda3\\lib\\site-packages (from selenium) (0.9.2)\n",
      "Requirement already satisfied: trio~=0.17 in c:\\users\\20130368\\anaconda3\\lib\\site-packages (from selenium) (0.19.0)\n",
      "Requirement already satisfied: cffi>=1.14 in c:\\users\\20130368\\anaconda3\\lib\\site-packages (from trio~=0.17->selenium) (1.14.5)\n",
      "Requirement already satisfied: attrs>=19.2.0 in c:\\users\\20130368\\anaconda3\\lib\\site-packages (from trio~=0.17->selenium) (20.3.0)\n",
      "Requirement already satisfied: sniffio in c:\\users\\20130368\\anaconda3\\lib\\site-packages (from trio~=0.17->selenium) (1.2.0)\n",
      "Requirement already satisfied: async-generator>=1.9 in c:\\users\\20130368\\anaconda3\\lib\\site-packages (from trio~=0.17->selenium) (1.10)\n",
      "Requirement already satisfied: outcome in c:\\users\\20130368\\anaconda3\\lib\\site-packages (from trio~=0.17->selenium) (1.1.0)\n",
      "Requirement already satisfied: idna in c:\\users\\20130368\\anaconda3\\lib\\site-packages (from trio~=0.17->selenium) (2.10)\n",
      "Requirement already satisfied: sortedcontainers in c:\\users\\20130368\\anaconda3\\lib\\site-packages (from trio~=0.17->selenium) (2.3.0)\n",
      "Requirement already satisfied: pycparser in c:\\users\\20130368\\anaconda3\\lib\\site-packages (from cffi>=1.14->trio~=0.17->selenium) (2.20)\n",
      "Requirement already satisfied: wsproto>=0.14 in c:\\users\\20130368\\anaconda3\\lib\\site-packages (from trio-websocket~=0.9->selenium) (1.0.0)\n",
      "Requirement already satisfied: cryptography>=1.3.4 in c:\\users\\20130368\\anaconda3\\lib\\site-packages (from urllib3[secure]~=1.26->selenium) (3.4.7)\n",
      "Requirement already satisfied: pyOpenSSL>=0.14 in c:\\users\\20130368\\anaconda3\\lib\\site-packages (from urllib3[secure]~=1.26->selenium) (20.0.1)\n",
      "Requirement already satisfied: certifi in c:\\users\\20130368\\anaconda3\\lib\\site-packages (from urllib3[secure]~=1.26->selenium) (2020.12.5)\n",
      "Requirement already satisfied: six>=1.5.2 in c:\\users\\20130368\\anaconda3\\lib\\site-packages (from pyOpenSSL>=0.14->urllib3[secure]~=1.26->selenium) (1.15.0)\n",
      "Requirement already satisfied: h11<1,>=0.9.0 in c:\\users\\20130368\\anaconda3\\lib\\site-packages (from wsproto>=0.14->trio-websocket~=0.9->selenium) (0.12.0)\n"
     ]
    }
   ],
   "source": [
    "!pip install selenium"
   ]
  },
  {
   "cell_type": "code",
   "execution_count": 3,
   "id": "4c0f6fe1",
   "metadata": {},
   "outputs": [],
   "source": [
    "# Importinng different Libraries\n",
    "import selenium\n",
    "import pandas as pd\n",
    "from selenium import webdriver"
   ]
  },
  {
   "cell_type": "code",
   "execution_count": null,
   "id": "3fac6bba",
   "metadata": {},
   "outputs": [],
   "source": []
  },
  {
   "cell_type": "code",
   "execution_count": 5,
   "id": "29197225",
   "metadata": {},
   "outputs": [
    {
     "name": "stderr",
     "output_type": "stream",
     "text": [
      "<ipython-input-5-33c0716558c7>:1: DeprecationWarning: executable_path has been deprecated, please pass in a Service object\n",
      "  driver = webdriver.Chrome(r\"C:/Users/20130368/Desktop/Python/Internship/chromedriver_win32/chromedriver.exe\")\n"
     ]
    }
   ],
   "source": [
    "driver = webdriver.Chrome(r\"C:/Users/20130368/Desktop/Python/Internship/chromedriver_win32/chromedriver.exe\")"
   ]
  },
  {
   "cell_type": "code",
   "execution_count": 6,
   "id": "fa37dbc9",
   "metadata": {},
   "outputs": [],
   "source": [
    "driver.get(\"https://www.naukri.com/\")"
   ]
  },
  {
   "cell_type": "code",
   "execution_count": 8,
   "id": "de130e9c",
   "metadata": {},
   "outputs": [
    {
     "name": "stderr",
     "output_type": "stream",
     "text": [
      "<ipython-input-8-c85696e5d4ee>:1: DeprecationWarning: find_element_by_* commands are deprecated. Please use find_element() instead\n",
      "  job_search = driver.find_element_by_id('qsb-keyword-sugg')\n",
      "<ipython-input-8-c85696e5d4ee>:3: DeprecationWarning: find_element_by_* commands are deprecated. Please use find_element() instead\n",
      "  job_loc = driver.find_element_by_xpath(\"//input[@id='qsb-location-sugg']\")\n"
     ]
    }
   ],
   "source": [
    "job_search = driver.find_element_by_id('qsb-keyword-sugg')\n",
    "job_search.send_keys(\"DATA Analyst\")\n",
    "job_loc = driver.find_element_by_xpath(\"//input[@id='qsb-location-sugg']\")\n",
    "job_loc.send_keys(\"Banglore\")"
   ]
  },
  {
   "cell_type": "code",
   "execution_count": 9,
   "id": "5147681a",
   "metadata": {},
   "outputs": [
    {
     "name": "stderr",
     "output_type": "stream",
     "text": [
      "<ipython-input-9-c9b437d84350>:1: DeprecationWarning: find_element_by_* commands are deprecated. Please use find_element() instead\n",
      "  search_btn = driver.find_element_by_xpath(\"//div[@class='search-btn']/button\")\n"
     ]
    }
   ],
   "source": [
    "search_btn = driver.find_element_by_xpath(\"//div[@class='search-btn']/button\")\n",
    "search_btn.click()"
   ]
  },
  {
   "cell_type": "code",
   "execution_count": 10,
   "id": "426b8554",
   "metadata": {},
   "outputs": [],
   "source": [
    "#Creating Empty List\n",
    "Job_Titles = []\n",
    "Company_Name = []\n",
    "Experience = []\n",
    "Job_location = []"
   ]
  },
  {
   "cell_type": "code",
   "execution_count": 17,
   "id": "0685e2c8",
   "metadata": {},
   "outputs": [
    {
     "name": "stderr",
     "output_type": "stream",
     "text": [
      "<ipython-input-17-b366e235718a>:2: DeprecationWarning: find_elements_by_* commands are deprecated. Please use find_elements() instead\n",
      "  title_tag = driver.find_elements_by_xpath(\"//a[@class='title fw500 ellipsis']\")\n"
     ]
    },
    {
     "data": {
      "text/plain": [
       "[<selenium.webdriver.remote.webelement.WebElement (session=\"c7d4fb0d9dd33272456d29f57e25100d\", element=\"4574b60b-7433-491e-beee-13374626f4cb\")>,\n",
       " <selenium.webdriver.remote.webelement.WebElement (session=\"c7d4fb0d9dd33272456d29f57e25100d\", element=\"515304a4-57bc-4fad-9755-4218d576d256\")>,\n",
       " <selenium.webdriver.remote.webelement.WebElement (session=\"c7d4fb0d9dd33272456d29f57e25100d\", element=\"e1134c30-850e-42dc-8d7e-eb39effd95aa\")>,\n",
       " <selenium.webdriver.remote.webelement.WebElement (session=\"c7d4fb0d9dd33272456d29f57e25100d\", element=\"7fa19341-0b55-46ac-9051-c5f8588fbe45\")>,\n",
       " <selenium.webdriver.remote.webelement.WebElement (session=\"c7d4fb0d9dd33272456d29f57e25100d\", element=\"30c5729e-9261-49f9-a9e8-f52f070d1bf1\")>,\n",
       " <selenium.webdriver.remote.webelement.WebElement (session=\"c7d4fb0d9dd33272456d29f57e25100d\", element=\"27e542c2-d5f2-4b19-81ae-eb3dc93af367\")>,\n",
       " <selenium.webdriver.remote.webelement.WebElement (session=\"c7d4fb0d9dd33272456d29f57e25100d\", element=\"cdc9031a-6ec6-43bc-8ba0-f8578402ec0f\")>,\n",
       " <selenium.webdriver.remote.webelement.WebElement (session=\"c7d4fb0d9dd33272456d29f57e25100d\", element=\"0d578b17-bc58-4191-b712-041104914bbe\")>,\n",
       " <selenium.webdriver.remote.webelement.WebElement (session=\"c7d4fb0d9dd33272456d29f57e25100d\", element=\"621b438a-471e-42d0-a83c-3c759d45ccac\")>,\n",
       " <selenium.webdriver.remote.webelement.WebElement (session=\"c7d4fb0d9dd33272456d29f57e25100d\", element=\"4513f48f-dbd0-4edf-bbcd-5274f67a2026\")>]"
      ]
     },
     "execution_count": 17,
     "metadata": {},
     "output_type": "execute_result"
    }
   ],
   "source": [
    "#Extracting DATA\n",
    "title_tag = driver.find_elements_by_xpath(\"//a[@class='title fw500 ellipsis']\")\n",
    "title_tag[0:10]\n",
    "\n"
   ]
  },
  {
   "cell_type": "code",
   "execution_count": 19,
   "id": "24a8dd03",
   "metadata": {},
   "outputs": [
    {
     "data": {
      "text/plain": [
       "['Hiring -Data Analyst, Business Analyst, MIS Analyst -3rd Party Payroll',\n",
       " 'Senior Data Analyst III',\n",
       " 'Business Analyst/ Data Analyst- Capital Market & SQL (Mandatory)',\n",
       " 'Customer Data Management Analyst',\n",
       " 'Data Analyst',\n",
       " 'Assistant/deputy Manager - Geo-spatial Data Analyst',\n",
       " 'Senior Data Analyst',\n",
       " 'Senior Data Analyst',\n",
       " 'Senior Data Analyst',\n",
       " 'Openings For SQL Data Analyst']"
      ]
     },
     "execution_count": 19,
     "metadata": {},
     "output_type": "execute_result"
    }
   ],
   "source": [
    "#Extracting DATA from above details we will use For Loop\n",
    "for i in title_tag:\n",
    "    title=i.text\n",
    "    Job_Titles.append(title)\n",
    "Job_Titles[0:10]"
   ]
  },
  {
   "cell_type": "code",
   "execution_count": 21,
   "id": "f1f91789",
   "metadata": {},
   "outputs": [
    {
     "name": "stderr",
     "output_type": "stream",
     "text": [
      "<ipython-input-21-83d43ede81ff>:1: DeprecationWarning: find_elements_by_* commands are deprecated. Please use find_elements() instead\n",
      "  job_loc = driver.find_elements_by_xpath(\"//li[@class = 'fleft grey-text br2 placeHolderLi location']\")\n"
     ]
    },
    {
     "data": {
      "text/plain": [
       "[<selenium.webdriver.remote.webelement.WebElement (session=\"c7d4fb0d9dd33272456d29f57e25100d\", element=\"7e7959a1-e939-495f-b9bc-88227b727cb3\")>,\n",
       " <selenium.webdriver.remote.webelement.WebElement (session=\"c7d4fb0d9dd33272456d29f57e25100d\", element=\"7a2280b4-29fa-4e1a-80f3-032c2ee5b04d\")>,\n",
       " <selenium.webdriver.remote.webelement.WebElement (session=\"c7d4fb0d9dd33272456d29f57e25100d\", element=\"39cc3d21-1d22-49ea-9ef2-1fb06fc57b41\")>,\n",
       " <selenium.webdriver.remote.webelement.WebElement (session=\"c7d4fb0d9dd33272456d29f57e25100d\", element=\"ded7e3af-cff6-4910-ad9f-226ae84bed58\")>,\n",
       " <selenium.webdriver.remote.webelement.WebElement (session=\"c7d4fb0d9dd33272456d29f57e25100d\", element=\"0931f1d5-2ba6-49bf-af4e-ad904817d01c\")>,\n",
       " <selenium.webdriver.remote.webelement.WebElement (session=\"c7d4fb0d9dd33272456d29f57e25100d\", element=\"2690b20f-16d2-4493-b9a0-84491c2635af\")>,\n",
       " <selenium.webdriver.remote.webelement.WebElement (session=\"c7d4fb0d9dd33272456d29f57e25100d\", element=\"30b81823-14e4-43c2-a017-99a632b909e5\")>,\n",
       " <selenium.webdriver.remote.webelement.WebElement (session=\"c7d4fb0d9dd33272456d29f57e25100d\", element=\"9899bbf5-7c75-4179-9dec-89ecbe17335c\")>,\n",
       " <selenium.webdriver.remote.webelement.WebElement (session=\"c7d4fb0d9dd33272456d29f57e25100d\", element=\"218b1901-39d3-4c11-9d67-6bcb52defece\")>,\n",
       " <selenium.webdriver.remote.webelement.WebElement (session=\"c7d4fb0d9dd33272456d29f57e25100d\", element=\"8bb7da1d-418d-4eae-b78c-c9a27e3de562\")>]"
      ]
     },
     "execution_count": 21,
     "metadata": {},
     "output_type": "execute_result"
    }
   ],
   "source": [
    "job_loc = driver.find_elements_by_xpath(\"//li[@class = 'fleft grey-text br2 placeHolderLi location']\")\n",
    "job_loc[0:10]"
   ]
  },
  {
   "cell_type": "code",
   "execution_count": 25,
   "id": "d45078cb",
   "metadata": {},
   "outputs": [
    {
     "data": {
      "text/plain": [
       "['Bangalore/Bengaluru',\n",
       " 'Bengaluru/Bangalore',\n",
       " 'Pune, Bangalore/Bengaluru',\n",
       " 'Bangalore/Bengaluru',\n",
       " 'Bangalore/Bengaluru',\n",
       " 'Gurgaon/Gurugram, bangalore',\n",
       " 'Bangalore/Bengaluru',\n",
       " 'Kolkata, Hyderabad/Secunderabad, Pune, Ahmedabad, Chennai, Bangalore/Bengaluru, Delhi / NCR, Mumbai (All Areas)\\n(WFH during Covid)',\n",
       " 'Bengaluru/Bangalore',\n",
       " 'Hyderabad/Secunderabad, Bangalore/Bengaluru\\n(WFH during Covid)']"
      ]
     },
     "execution_count": 25,
     "metadata": {},
     "output_type": "execute_result"
    }
   ],
   "source": [
    "#Extracting DATA from above details we will use For Loop\n",
    "for i in job_loc:\n",
    "    loc=i.text\n",
    "    Job_location.append(loc)\n",
    "Job_location[0:10]"
   ]
  },
  {
   "cell_type": "code",
   "execution_count": 26,
   "id": "5ef27fc0",
   "metadata": {},
   "outputs": [
    {
     "name": "stderr",
     "output_type": "stream",
     "text": [
      "<ipython-input-26-64409f83a0ef>:2: DeprecationWarning: find_elements_by_* commands are deprecated. Please use find_elements() instead\n",
      "  comp = driver.find_elements_by_xpath(\"//a[@class='subTitle ellipsis fleft']\")\n"
     ]
    },
    {
     "data": {
      "text/plain": [
       "[<selenium.webdriver.remote.webelement.WebElement (session=\"c7d4fb0d9dd33272456d29f57e25100d\", element=\"9fcb9586-3c98-42bc-91ad-f62670679233\")>,\n",
       " <selenium.webdriver.remote.webelement.WebElement (session=\"c7d4fb0d9dd33272456d29f57e25100d\", element=\"17b7c5ad-2b7b-4260-a7d6-d832d4db9244\")>,\n",
       " <selenium.webdriver.remote.webelement.WebElement (session=\"c7d4fb0d9dd33272456d29f57e25100d\", element=\"1659bca4-9269-4908-ada1-48b7af0c27de\")>,\n",
       " <selenium.webdriver.remote.webelement.WebElement (session=\"c7d4fb0d9dd33272456d29f57e25100d\", element=\"13c0a764-93c7-48fe-940a-584bdfe52d4e\")>,\n",
       " <selenium.webdriver.remote.webelement.WebElement (session=\"c7d4fb0d9dd33272456d29f57e25100d\", element=\"bbba6e53-689b-4aeb-b528-6c9382d2a6fe\")>,\n",
       " <selenium.webdriver.remote.webelement.WebElement (session=\"c7d4fb0d9dd33272456d29f57e25100d\", element=\"ec84c3b4-12c2-4432-abf4-68620dbbddcb\")>,\n",
       " <selenium.webdriver.remote.webelement.WebElement (session=\"c7d4fb0d9dd33272456d29f57e25100d\", element=\"b2644850-e9b2-4cec-94a8-4cba20aaa6d8\")>,\n",
       " <selenium.webdriver.remote.webelement.WebElement (session=\"c7d4fb0d9dd33272456d29f57e25100d\", element=\"7554acd2-986b-4466-9f20-0b95bab13bea\")>,\n",
       " <selenium.webdriver.remote.webelement.WebElement (session=\"c7d4fb0d9dd33272456d29f57e25100d\", element=\"2d2cfe7b-28d4-45d5-8a21-0218b5188023\")>,\n",
       " <selenium.webdriver.remote.webelement.WebElement (session=\"c7d4fb0d9dd33272456d29f57e25100d\", element=\"27caceb0-3f66-4ee9-9f0a-d5051273d916\")>]"
      ]
     },
     "execution_count": 26,
     "metadata": {},
     "output_type": "execute_result"
    }
   ],
   "source": [
    "#Extracting DATA\n",
    "comp = driver.find_elements_by_xpath(\"//a[@class='subTitle ellipsis fleft']\")\n",
    "comp[0:10]\n"
   ]
  },
  {
   "cell_type": "code",
   "execution_count": 27,
   "id": "524b2794",
   "metadata": {},
   "outputs": [
    {
     "data": {
      "text/plain": [
       "['Flipkart',\n",
       " 'Flipkart',\n",
       " 'Genpact',\n",
       " 'Aspect',\n",
       " 'GlaxoSmithKline Pharmaceuticals Limited',\n",
       " 'Maruti Suzuki India',\n",
       " 'Rapido',\n",
       " 'SYREN TECHNOLOGIES PRIVATE LIMITED',\n",
       " 'Flipkart',\n",
       " 'StackNexus Technologies India Pvt. Ltd']"
      ]
     },
     "execution_count": 27,
     "metadata": {},
     "output_type": "execute_result"
    }
   ],
   "source": [
    "#Extracting DATA from above details we will use For Loop\n",
    "for i in comp:\n",
    "    Company=i.text\n",
    "    Company_Name.append(Company)\n",
    "Company_Name[0:10]"
   ]
  },
  {
   "cell_type": "code",
   "execution_count": 28,
   "id": "37bd0d31",
   "metadata": {},
   "outputs": [
    {
     "name": "stderr",
     "output_type": "stream",
     "text": [
      "<ipython-input-28-80187e1e5835>:2: DeprecationWarning: find_elements_by_* commands are deprecated. Please use find_elements() instead\n",
      "  exp = driver.find_elements_by_xpath(\"//li[@class = 'fleft grey-text br2 placeHolderLi experience']\")\n"
     ]
    },
    {
     "data": {
      "text/plain": [
       "[<selenium.webdriver.remote.webelement.WebElement (session=\"c7d4fb0d9dd33272456d29f57e25100d\", element=\"e8dac1be-7906-4ff7-af65-ee057428631f\")>,\n",
       " <selenium.webdriver.remote.webelement.WebElement (session=\"c7d4fb0d9dd33272456d29f57e25100d\", element=\"6572c38a-f3ec-49dc-b00a-8e3f1296dc8e\")>,\n",
       " <selenium.webdriver.remote.webelement.WebElement (session=\"c7d4fb0d9dd33272456d29f57e25100d\", element=\"5be9c9f3-ccd4-455d-bec0-6e37c1a6c260\")>,\n",
       " <selenium.webdriver.remote.webelement.WebElement (session=\"c7d4fb0d9dd33272456d29f57e25100d\", element=\"cf950c6c-ebb5-45dd-b2bb-da8fdd212355\")>,\n",
       " <selenium.webdriver.remote.webelement.WebElement (session=\"c7d4fb0d9dd33272456d29f57e25100d\", element=\"ea24b48d-bc84-4b0a-a943-027e494d4e97\")>,\n",
       " <selenium.webdriver.remote.webelement.WebElement (session=\"c7d4fb0d9dd33272456d29f57e25100d\", element=\"9e5b7e8a-2913-46ee-9b2e-31dc888c625a\")>,\n",
       " <selenium.webdriver.remote.webelement.WebElement (session=\"c7d4fb0d9dd33272456d29f57e25100d\", element=\"1bf2bba2-26ac-48e8-a05c-2dfa52cab940\")>,\n",
       " <selenium.webdriver.remote.webelement.WebElement (session=\"c7d4fb0d9dd33272456d29f57e25100d\", element=\"f06199d6-5500-4e32-a859-5c07f3ab77a4\")>,\n",
       " <selenium.webdriver.remote.webelement.WebElement (session=\"c7d4fb0d9dd33272456d29f57e25100d\", element=\"3c132f6c-94f5-4e1b-a757-db56068497dd\")>,\n",
       " <selenium.webdriver.remote.webelement.WebElement (session=\"c7d4fb0d9dd33272456d29f57e25100d\", element=\"86aa931f-91a0-4d6a-8762-ca02147fd9a8\")>]"
      ]
     },
     "execution_count": 28,
     "metadata": {},
     "output_type": "execute_result"
    }
   ],
   "source": [
    "#Extracting DATA\n",
    "exp = driver.find_elements_by_xpath(\"//li[@class = 'fleft grey-text br2 placeHolderLi experience']\")\n",
    "exp[0:10]"
   ]
  },
  {
   "cell_type": "code",
   "execution_count": 29,
   "id": "67278aa4",
   "metadata": {},
   "outputs": [
    {
     "data": {
      "text/plain": [
       "['1-6 Yrs',\n",
       " '2-4 Yrs',\n",
       " '7-12 Yrs',\n",
       " '0-2 Yrs',\n",
       " '3-8 Yrs',\n",
       " '3-5 Yrs',\n",
       " '1-6 Yrs',\n",
       " '5-10 Yrs',\n",
       " '4-5 Yrs',\n",
       " '3-6 Yrs']"
      ]
     },
     "execution_count": 29,
     "metadata": {},
     "output_type": "execute_result"
    }
   ],
   "source": [
    "#Extracting DATA from above details we will use For Loop\n",
    "for i in exp:\n",
    "    Exp=i.text\n",
    "    Experience.append(Exp)\n",
    "Experience[0:10]"
   ]
  },
  {
   "cell_type": "code",
   "execution_count": 32,
   "id": "2a8bf72d",
   "metadata": {},
   "outputs": [
    {
     "name": "stdout",
     "output_type": "stream",
     "text": [
      "20 20 20 20\n"
     ]
    }
   ],
   "source": [
    "print(len(Job_Titles),len(Company_Name),len(Job_location),len(Experience))"
   ]
  },
  {
   "cell_type": "code",
   "execution_count": 36,
   "id": "9b2def1b",
   "metadata": {},
   "outputs": [],
   "source": [
    "jobs=pd.DataFrame({})\n",
    "jobs['Title'] = Job_Titles\n",
    "jobs['Company']= Company_Name\n",
    "jobs['location']= Job_location\n",
    "jobs['Exp']= Experience"
   ]
  },
  {
   "cell_type": "code",
   "execution_count": null,
   "id": "bf8973e2",
   "metadata": {},
   "outputs": [],
   "source": []
  },
  {
   "cell_type": "code",
   "execution_count": 40,
   "id": "c4b2ac14",
   "metadata": {},
   "outputs": [
    {
     "data": {
      "text/html": [
       "<div>\n",
       "<style scoped>\n",
       "    .dataframe tbody tr th:only-of-type {\n",
       "        vertical-align: middle;\n",
       "    }\n",
       "\n",
       "    .dataframe tbody tr th {\n",
       "        vertical-align: top;\n",
       "    }\n",
       "\n",
       "    .dataframe thead th {\n",
       "        text-align: right;\n",
       "    }\n",
       "</style>\n",
       "<table border=\"1\" class=\"dataframe\">\n",
       "  <thead>\n",
       "    <tr style=\"text-align: right;\">\n",
       "      <th></th>\n",
       "      <th>Title</th>\n",
       "      <th>Company</th>\n",
       "      <th>location</th>\n",
       "      <th>Exp</th>\n",
       "    </tr>\n",
       "  </thead>\n",
       "  <tbody>\n",
       "    <tr>\n",
       "      <th>0</th>\n",
       "      <td>Hiring -Data Analyst, Business Analyst, MIS An...</td>\n",
       "      <td>Flipkart</td>\n",
       "      <td>Bangalore/Bengaluru</td>\n",
       "      <td>1-6 Yrs</td>\n",
       "    </tr>\n",
       "    <tr>\n",
       "      <th>1</th>\n",
       "      <td>Senior Data Analyst III</td>\n",
       "      <td>Flipkart</td>\n",
       "      <td>Bengaluru/Bangalore</td>\n",
       "      <td>2-4 Yrs</td>\n",
       "    </tr>\n",
       "    <tr>\n",
       "      <th>2</th>\n",
       "      <td>Business Analyst/ Data Analyst- Capital Market...</td>\n",
       "      <td>Genpact</td>\n",
       "      <td>Pune, Bangalore/Bengaluru</td>\n",
       "      <td>7-12 Yrs</td>\n",
       "    </tr>\n",
       "    <tr>\n",
       "      <th>3</th>\n",
       "      <td>Customer Data Management Analyst</td>\n",
       "      <td>Aspect</td>\n",
       "      <td>Bangalore/Bengaluru</td>\n",
       "      <td>0-2 Yrs</td>\n",
       "    </tr>\n",
       "    <tr>\n",
       "      <th>4</th>\n",
       "      <td>Data Analyst</td>\n",
       "      <td>GlaxoSmithKline Pharmaceuticals Limited</td>\n",
       "      <td>Bangalore/Bengaluru</td>\n",
       "      <td>3-8 Yrs</td>\n",
       "    </tr>\n",
       "    <tr>\n",
       "      <th>5</th>\n",
       "      <td>Assistant/deputy Manager - Geo-spatial Data An...</td>\n",
       "      <td>Maruti Suzuki India</td>\n",
       "      <td>Gurgaon/Gurugram, bangalore</td>\n",
       "      <td>3-5 Yrs</td>\n",
       "    </tr>\n",
       "    <tr>\n",
       "      <th>6</th>\n",
       "      <td>Senior Data Analyst</td>\n",
       "      <td>Rapido</td>\n",
       "      <td>Bangalore/Bengaluru</td>\n",
       "      <td>1-6 Yrs</td>\n",
       "    </tr>\n",
       "    <tr>\n",
       "      <th>7</th>\n",
       "      <td>Senior Data Analyst</td>\n",
       "      <td>SYREN TECHNOLOGIES PRIVATE LIMITED</td>\n",
       "      <td>Kolkata, Hyderabad/Secunderabad, Pune, Ahmedab...</td>\n",
       "      <td>5-10 Yrs</td>\n",
       "    </tr>\n",
       "    <tr>\n",
       "      <th>8</th>\n",
       "      <td>Senior Data Analyst</td>\n",
       "      <td>Flipkart</td>\n",
       "      <td>Bengaluru/Bangalore</td>\n",
       "      <td>4-5 Yrs</td>\n",
       "    </tr>\n",
       "    <tr>\n",
       "      <th>9</th>\n",
       "      <td>Openings For SQL Data Analyst</td>\n",
       "      <td>StackNexus Technologies India Pvt. Ltd</td>\n",
       "      <td>Hyderabad/Secunderabad, Bangalore/Bengaluru\\n(...</td>\n",
       "      <td>3-6 Yrs</td>\n",
       "    </tr>\n",
       "  </tbody>\n",
       "</table>\n",
       "</div>"
      ],
      "text/plain": [
       "                                               Title  \\\n",
       "0  Hiring -Data Analyst, Business Analyst, MIS An...   \n",
       "1                            Senior Data Analyst III   \n",
       "2  Business Analyst/ Data Analyst- Capital Market...   \n",
       "3                   Customer Data Management Analyst   \n",
       "4                                       Data Analyst   \n",
       "5  Assistant/deputy Manager - Geo-spatial Data An...   \n",
       "6                                Senior Data Analyst   \n",
       "7                                Senior Data Analyst   \n",
       "8                                Senior Data Analyst   \n",
       "9                      Openings For SQL Data Analyst   \n",
       "\n",
       "                                   Company  \\\n",
       "0                                 Flipkart   \n",
       "1                                 Flipkart   \n",
       "2                                  Genpact   \n",
       "3                                   Aspect   \n",
       "4  GlaxoSmithKline Pharmaceuticals Limited   \n",
       "5                      Maruti Suzuki India   \n",
       "6                                   Rapido   \n",
       "7       SYREN TECHNOLOGIES PRIVATE LIMITED   \n",
       "8                                 Flipkart   \n",
       "9   StackNexus Technologies India Pvt. Ltd   \n",
       "\n",
       "                                            location       Exp  \n",
       "0                                Bangalore/Bengaluru   1-6 Yrs  \n",
       "1                                Bengaluru/Bangalore   2-4 Yrs  \n",
       "2                          Pune, Bangalore/Bengaluru  7-12 Yrs  \n",
       "3                                Bangalore/Bengaluru   0-2 Yrs  \n",
       "4                                Bangalore/Bengaluru   3-8 Yrs  \n",
       "5                        Gurgaon/Gurugram, bangalore   3-5 Yrs  \n",
       "6                                Bangalore/Bengaluru   1-6 Yrs  \n",
       "7  Kolkata, Hyderabad/Secunderabad, Pune, Ahmedab...  5-10 Yrs  \n",
       "8                                Bengaluru/Bangalore   4-5 Yrs  \n",
       "9  Hyderabad/Secunderabad, Bangalore/Bengaluru\\n(...   3-6 Yrs  "
      ]
     },
     "execution_count": 40,
     "metadata": {},
     "output_type": "execute_result"
    }
   ],
   "source": [
    "jobs[0:10]"
   ]
  },
  {
   "cell_type": "code",
   "execution_count": null,
   "id": "974b8eeb",
   "metadata": {},
   "outputs": [],
   "source": []
  },
  {
   "cell_type": "code",
   "execution_count": null,
   "id": "d54e4d14",
   "metadata": {},
   "outputs": [],
   "source": []
  },
  {
   "cell_type": "raw",
   "id": "332f704b",
   "metadata": {},
   "source": [
    "Q.2 Data Scrapping for post of DATA Scientist"
   ]
  },
  {
   "cell_type": "code",
   "execution_count": 23,
   "id": "8eb14c03",
   "metadata": {},
   "outputs": [],
   "source": [
    "# Importinng different Libraries\n",
    "import selenium\n",
    "import pandas as pd\n",
    "from selenium import webdriver"
   ]
  },
  {
   "cell_type": "code",
   "execution_count": 24,
   "id": "f8396deb",
   "metadata": {},
   "outputs": [
    {
     "name": "stderr",
     "output_type": "stream",
     "text": [
      "<ipython-input-24-33c0716558c7>:1: DeprecationWarning: executable_path has been deprecated, please pass in a Service object\n",
      "  driver = webdriver.Chrome(r\"C:/Users/20130368/Desktop/Python/Internship/chromedriver_win32/chromedriver.exe\")\n"
     ]
    }
   ],
   "source": [
    "driver = webdriver.Chrome(r\"C:/Users/20130368/Desktop/Python/Internship/chromedriver_win32/chromedriver.exe\")"
   ]
  },
  {
   "cell_type": "code",
   "execution_count": 25,
   "id": "defeefb8",
   "metadata": {},
   "outputs": [],
   "source": [
    "driver.get(\"https://www.naukri.com/\")"
   ]
  },
  {
   "cell_type": "code",
   "execution_count": 26,
   "id": "9bb4d902",
   "metadata": {},
   "outputs": [
    {
     "name": "stderr",
     "output_type": "stream",
     "text": [
      "<ipython-input-26-24d02ecb925e>:1: DeprecationWarning: find_element_by_* commands are deprecated. Please use find_element() instead\n",
      "  job_search = driver.find_element_by_id('qsb-keyword-sugg')\n",
      "<ipython-input-26-24d02ecb925e>:3: DeprecationWarning: find_element_by_* commands are deprecated. Please use find_element() instead\n",
      "  job_loc = driver.find_element_by_xpath(\"//input[@id='qsb-location-sugg']\")\n",
      "<ipython-input-26-24d02ecb925e>:5: DeprecationWarning: find_element_by_* commands are deprecated. Please use find_element() instead\n",
      "  search_btn = driver.find_element_by_xpath(\"//div[@class='search-btn']/button\")\n"
     ]
    }
   ],
   "source": [
    "job_search = driver.find_element_by_id('qsb-keyword-sugg')\n",
    "job_search.send_keys(\"DATA Scientist\")\n",
    "job_loc = driver.find_element_by_xpath(\"//input[@id='qsb-location-sugg']\")\n",
    "job_loc.send_keys(\"Banglore\")\n",
    "search_btn = driver.find_element_by_xpath(\"//div[@class='search-btn']/button\")\n",
    "search_btn.click()"
   ]
  },
  {
   "cell_type": "code",
   "execution_count": 27,
   "id": "d46ad1f5",
   "metadata": {},
   "outputs": [],
   "source": [
    "Title=[]\n",
    "Company=[]\n",
    "Location = []"
   ]
  },
  {
   "cell_type": "code",
   "execution_count": 28,
   "id": "b9ed1be4",
   "metadata": {},
   "outputs": [
    {
     "name": "stderr",
     "output_type": "stream",
     "text": [
      "<ipython-input-28-f8b29172d097>:2: DeprecationWarning: find_elements_by_* commands are deprecated. Please use find_elements() instead\n",
      "  title_tag = driver.find_elements_by_xpath(\"//a[@class = 'title fw500 ellipsis']\")\n"
     ]
    },
    {
     "data": {
      "text/plain": [
       "[<selenium.webdriver.remote.webelement.WebElement (session=\"c4e74cdf3a7f5a926219f860c434b680\", element=\"2203c2ea-1c9c-4538-815c-e0b0233f3d6b\")>,\n",
       " <selenium.webdriver.remote.webelement.WebElement (session=\"c4e74cdf3a7f5a926219f860c434b680\", element=\"9e657253-69d3-475a-8e1c-2dfa80780aac\")>,\n",
       " <selenium.webdriver.remote.webelement.WebElement (session=\"c4e74cdf3a7f5a926219f860c434b680\", element=\"91f1cfc8-deef-44c0-aebf-f199ffd11ba5\")>,\n",
       " <selenium.webdriver.remote.webelement.WebElement (session=\"c4e74cdf3a7f5a926219f860c434b680\", element=\"e1768cac-8a80-42fe-b14c-aaefaeb49fb7\")>,\n",
       " <selenium.webdriver.remote.webelement.WebElement (session=\"c4e74cdf3a7f5a926219f860c434b680\", element=\"b7758964-3726-401c-bc62-19b849faaf08\")>,\n",
       " <selenium.webdriver.remote.webelement.WebElement (session=\"c4e74cdf3a7f5a926219f860c434b680\", element=\"f5805d9c-9388-41e1-8c2c-537b0beb4f95\")>,\n",
       " <selenium.webdriver.remote.webelement.WebElement (session=\"c4e74cdf3a7f5a926219f860c434b680\", element=\"e7c613d5-8112-40fe-b7a4-f94239fb7a99\")>,\n",
       " <selenium.webdriver.remote.webelement.WebElement (session=\"c4e74cdf3a7f5a926219f860c434b680\", element=\"b33a348c-fdf9-43c5-8fdd-c0a392334efd\")>,\n",
       " <selenium.webdriver.remote.webelement.WebElement (session=\"c4e74cdf3a7f5a926219f860c434b680\", element=\"224a9e8e-653c-4955-944c-c3d11b2f2189\")>,\n",
       " <selenium.webdriver.remote.webelement.WebElement (session=\"c4e74cdf3a7f5a926219f860c434b680\", element=\"87eb405b-65d0-4c81-8b98-0f103a558a57\")>]"
      ]
     },
     "execution_count": 28,
     "metadata": {},
     "output_type": "execute_result"
    }
   ],
   "source": [
    "#Extracting DATA\n",
    "title_tag = driver.find_elements_by_xpath(\"//a[@class = 'title fw500 ellipsis']\")\n",
    "title_tag[0:10]"
   ]
  },
  {
   "cell_type": "code",
   "execution_count": 29,
   "id": "9b302948",
   "metadata": {},
   "outputs": [
    {
     "data": {
      "text/plain": [
       "['Lead / Principal Data Scientist',\n",
       " 'Data Scientist',\n",
       " 'Senior Data Scientist',\n",
       " 'Senior Data Scientist',\n",
       " 'Data Scientist - Credit Risk',\n",
       " 'Lead/Senior Data Scientist (NLP)',\n",
       " 'Data Scientist 2',\n",
       " 'Machine Learning AI Data Scientist',\n",
       " 'Sr. Associate Consultant Data Scientist',\n",
       " 'Senior Engineer - AIML - Data Scientist']"
      ]
     },
     "execution_count": 29,
     "metadata": {},
     "output_type": "execute_result"
    }
   ],
   "source": [
    "for i in title_tag:\n",
    "    title=i.text\n",
    "    Title.append(title)\n",
    "Title[0:10]"
   ]
  },
  {
   "cell_type": "code",
   "execution_count": 30,
   "id": "2e61672e",
   "metadata": {},
   "outputs": [
    {
     "name": "stderr",
     "output_type": "stream",
     "text": [
      "<ipython-input-30-83d43ede81ff>:1: DeprecationWarning: find_elements_by_* commands are deprecated. Please use find_elements() instead\n",
      "  job_loc = driver.find_elements_by_xpath(\"//li[@class = 'fleft grey-text br2 placeHolderLi location']\")\n"
     ]
    },
    {
     "data": {
      "text/plain": [
       "[<selenium.webdriver.remote.webelement.WebElement (session=\"c4e74cdf3a7f5a926219f860c434b680\", element=\"5ef2e96f-48c1-445e-94d6-4720a9898afa\")>,\n",
       " <selenium.webdriver.remote.webelement.WebElement (session=\"c4e74cdf3a7f5a926219f860c434b680\", element=\"01a5bec3-f407-4b06-ace8-ca3ec9a76686\")>,\n",
       " <selenium.webdriver.remote.webelement.WebElement (session=\"c4e74cdf3a7f5a926219f860c434b680\", element=\"1b28d0c2-83c0-495b-86f7-fd45a337c10c\")>,\n",
       " <selenium.webdriver.remote.webelement.WebElement (session=\"c4e74cdf3a7f5a926219f860c434b680\", element=\"78bec087-a984-4a91-9565-2a8e351161d6\")>,\n",
       " <selenium.webdriver.remote.webelement.WebElement (session=\"c4e74cdf3a7f5a926219f860c434b680\", element=\"5513336a-3cb9-4857-bd5d-2526082ff045\")>,\n",
       " <selenium.webdriver.remote.webelement.WebElement (session=\"c4e74cdf3a7f5a926219f860c434b680\", element=\"cd59391e-092c-425e-ad75-b8a797e6ecc5\")>,\n",
       " <selenium.webdriver.remote.webelement.WebElement (session=\"c4e74cdf3a7f5a926219f860c434b680\", element=\"7a8edcd3-a8e9-411e-ae08-6e031be901c1\")>,\n",
       " <selenium.webdriver.remote.webelement.WebElement (session=\"c4e74cdf3a7f5a926219f860c434b680\", element=\"b888a45a-3513-4106-82ed-7d2eb5a9d83f\")>,\n",
       " <selenium.webdriver.remote.webelement.WebElement (session=\"c4e74cdf3a7f5a926219f860c434b680\", element=\"ae3bb74c-92a1-4370-a9c4-09f20afbb5d4\")>,\n",
       " <selenium.webdriver.remote.webelement.WebElement (session=\"c4e74cdf3a7f5a926219f860c434b680\", element=\"9e3bded0-75b7-4608-bee1-c8edf53db6ba\")>]"
      ]
     },
     "execution_count": 30,
     "metadata": {},
     "output_type": "execute_result"
    }
   ],
   "source": [
    "job_loc = driver.find_elements_by_xpath(\"//li[@class = 'fleft grey-text br2 placeHolderLi location']\")\n",
    "job_loc[0:10]"
   ]
  },
  {
   "cell_type": "code",
   "execution_count": 31,
   "id": "bd675ca8",
   "metadata": {},
   "outputs": [
    {
     "data": {
      "text/plain": [
       "['Mumbai, Hyderabad/Secunderabad, Pune, Delhi / NCR, Bangalore/Bengaluru',\n",
       " 'Bangalore/Bengaluru',\n",
       " 'Bangalore/Bengaluru',\n",
       " 'Bangalore/Bengaluru',\n",
       " 'Bangalore/Bengaluru',\n",
       " 'Bangalore/Bengaluru\\n(WFH during Covid)',\n",
       " 'Bangalore/Bengaluru',\n",
       " 'Bangalore/Bengaluru',\n",
       " 'Bangalore/Bengaluru',\n",
       " 'Bangalore/Bengaluru']"
      ]
     },
     "execution_count": 31,
     "metadata": {},
     "output_type": "execute_result"
    }
   ],
   "source": [
    "#Extracting DATA from above details we will use For Loop\n",
    "for i in job_loc:\n",
    "    loc=i.text\n",
    "    Location.append(loc)\n",
    "Location[0:10]"
   ]
  },
  {
   "cell_type": "code",
   "execution_count": 32,
   "id": "41a4b6be",
   "metadata": {},
   "outputs": [
    {
     "name": "stderr",
     "output_type": "stream",
     "text": [
      "<ipython-input-32-b904e58d2482>:2: DeprecationWarning: find_elements_by_* commands are deprecated. Please use find_elements() instead\n",
      "  company = driver.find_elements_by_xpath(\"//a[@class='subTitle ellipsis fleft']\")\n"
     ]
    },
    {
     "data": {
      "text/plain": [
       "[<selenium.webdriver.remote.webelement.WebElement (session=\"c4e74cdf3a7f5a926219f860c434b680\", element=\"7184a3ca-979c-4f35-beab-85d9be4b0911\")>,\n",
       " <selenium.webdriver.remote.webelement.WebElement (session=\"c4e74cdf3a7f5a926219f860c434b680\", element=\"9f708e2c-8f50-4417-8e61-3699dafc06ed\")>,\n",
       " <selenium.webdriver.remote.webelement.WebElement (session=\"c4e74cdf3a7f5a926219f860c434b680\", element=\"df1dd3a6-1104-4cd0-93e3-05883e7a5c9d\")>,\n",
       " <selenium.webdriver.remote.webelement.WebElement (session=\"c4e74cdf3a7f5a926219f860c434b680\", element=\"cef0f6c5-27fe-4dfd-aec1-c7cb7eaa574e\")>,\n",
       " <selenium.webdriver.remote.webelement.WebElement (session=\"c4e74cdf3a7f5a926219f860c434b680\", element=\"e2942e78-f619-4667-abac-69ee3e3ba7dc\")>,\n",
       " <selenium.webdriver.remote.webelement.WebElement (session=\"c4e74cdf3a7f5a926219f860c434b680\", element=\"53241971-f4be-49ba-abaf-2b9c1882f32c\")>,\n",
       " <selenium.webdriver.remote.webelement.WebElement (session=\"c4e74cdf3a7f5a926219f860c434b680\", element=\"2cd91045-c169-4ad6-9032-f51546d976fd\")>,\n",
       " <selenium.webdriver.remote.webelement.WebElement (session=\"c4e74cdf3a7f5a926219f860c434b680\", element=\"54842779-72f7-4130-8a0b-8aa9b0be6a31\")>,\n",
       " <selenium.webdriver.remote.webelement.WebElement (session=\"c4e74cdf3a7f5a926219f860c434b680\", element=\"f29a1a5e-de56-4967-a4d3-e84ad1e3fbcf\")>,\n",
       " <selenium.webdriver.remote.webelement.WebElement (session=\"c4e74cdf3a7f5a926219f860c434b680\", element=\"6387958f-001c-4d57-8dd2-b75458ed622a\")>]"
      ]
     },
     "execution_count": 32,
     "metadata": {},
     "output_type": "execute_result"
    }
   ],
   "source": [
    "#Extracting DATA\n",
    "company = driver.find_elements_by_xpath(\"//a[@class='subTitle ellipsis fleft']\")\n",
    "company[0:10]\n"
   ]
  },
  {
   "cell_type": "code",
   "execution_count": 33,
   "id": "acdaa4a3",
   "metadata": {},
   "outputs": [
    {
     "data": {
      "text/plain": [
       "['Aviso Inc',\n",
       " 'Snaphunt',\n",
       " 'Ally-Executive',\n",
       " 'Visa',\n",
       " 'Scienaptic Systems',\n",
       " 'Samya.AI A FRACTAL Entity',\n",
       " 'ANI Technologies Pvt. Ltd.',\n",
       " 'EKO Infomatics Solutions Private Limited',\n",
       " 'Eli Lilly and Company',\n",
       " 'Unisys']"
      ]
     },
     "execution_count": 33,
     "metadata": {},
     "output_type": "execute_result"
    }
   ],
   "source": [
    "for i in company:\n",
    "    Comp = i.text\n",
    "    Company.append(Comp)\n",
    "Company[0:10]"
   ]
  },
  {
   "cell_type": "code",
   "execution_count": 34,
   "id": "38a4a277",
   "metadata": {},
   "outputs": [
    {
     "name": "stdout",
     "output_type": "stream",
     "text": [
      "20 20 20\n"
     ]
    }
   ],
   "source": [
    "print(len(Title),len(Location),len(Company))"
   ]
  },
  {
   "cell_type": "code",
   "execution_count": 35,
   "id": "edcc43de",
   "metadata": {},
   "outputs": [],
   "source": [
    "job=pd.DataFrame({})\n",
    "job['JobTitle'] = Title\n",
    "job['CompanyName']= Company\n",
    "job['joblocation']= Location\n"
   ]
  },
  {
   "cell_type": "code",
   "execution_count": 37,
   "id": "15ce0d07",
   "metadata": {},
   "outputs": [
    {
     "data": {
      "text/html": [
       "<div>\n",
       "<style scoped>\n",
       "    .dataframe tbody tr th:only-of-type {\n",
       "        vertical-align: middle;\n",
       "    }\n",
       "\n",
       "    .dataframe tbody tr th {\n",
       "        vertical-align: top;\n",
       "    }\n",
       "\n",
       "    .dataframe thead th {\n",
       "        text-align: right;\n",
       "    }\n",
       "</style>\n",
       "<table border=\"1\" class=\"dataframe\">\n",
       "  <thead>\n",
       "    <tr style=\"text-align: right;\">\n",
       "      <th></th>\n",
       "      <th>JobTitle</th>\n",
       "      <th>CompanyName</th>\n",
       "      <th>joblocation</th>\n",
       "    </tr>\n",
       "  </thead>\n",
       "  <tbody>\n",
       "    <tr>\n",
       "      <th>0</th>\n",
       "      <td>Lead / Principal Data Scientist</td>\n",
       "      <td>Aviso Inc</td>\n",
       "      <td>Mumbai, Hyderabad/Secunderabad, Pune, Delhi / ...</td>\n",
       "    </tr>\n",
       "    <tr>\n",
       "      <th>1</th>\n",
       "      <td>Data Scientist</td>\n",
       "      <td>Snaphunt</td>\n",
       "      <td>Bangalore/Bengaluru</td>\n",
       "    </tr>\n",
       "    <tr>\n",
       "      <th>2</th>\n",
       "      <td>Senior Data Scientist</td>\n",
       "      <td>Ally-Executive</td>\n",
       "      <td>Bangalore/Bengaluru</td>\n",
       "    </tr>\n",
       "    <tr>\n",
       "      <th>3</th>\n",
       "      <td>Senior Data Scientist</td>\n",
       "      <td>Visa</td>\n",
       "      <td>Bangalore/Bengaluru</td>\n",
       "    </tr>\n",
       "    <tr>\n",
       "      <th>4</th>\n",
       "      <td>Data Scientist - Credit Risk</td>\n",
       "      <td>Scienaptic Systems</td>\n",
       "      <td>Bangalore/Bengaluru</td>\n",
       "    </tr>\n",
       "    <tr>\n",
       "      <th>5</th>\n",
       "      <td>Lead/Senior Data Scientist (NLP)</td>\n",
       "      <td>Samya.AI A FRACTAL Entity</td>\n",
       "      <td>Bangalore/Bengaluru\\n(WFH during Covid)</td>\n",
       "    </tr>\n",
       "    <tr>\n",
       "      <th>6</th>\n",
       "      <td>Data Scientist 2</td>\n",
       "      <td>ANI Technologies Pvt. Ltd.</td>\n",
       "      <td>Bangalore/Bengaluru</td>\n",
       "    </tr>\n",
       "    <tr>\n",
       "      <th>7</th>\n",
       "      <td>Machine Learning AI Data Scientist</td>\n",
       "      <td>EKO Infomatics Solutions Private Limited</td>\n",
       "      <td>Bangalore/Bengaluru</td>\n",
       "    </tr>\n",
       "    <tr>\n",
       "      <th>8</th>\n",
       "      <td>Sr. Associate Consultant Data Scientist</td>\n",
       "      <td>Eli Lilly and Company</td>\n",
       "      <td>Bangalore/Bengaluru</td>\n",
       "    </tr>\n",
       "    <tr>\n",
       "      <th>9</th>\n",
       "      <td>Senior Engineer - AIML - Data Scientist</td>\n",
       "      <td>Unisys</td>\n",
       "      <td>Bangalore/Bengaluru</td>\n",
       "    </tr>\n",
       "  </tbody>\n",
       "</table>\n",
       "</div>"
      ],
      "text/plain": [
       "                                  JobTitle  \\\n",
       "0          Lead / Principal Data Scientist   \n",
       "1                           Data Scientist   \n",
       "2                    Senior Data Scientist   \n",
       "3                    Senior Data Scientist   \n",
       "4             Data Scientist - Credit Risk   \n",
       "5         Lead/Senior Data Scientist (NLP)   \n",
       "6                         Data Scientist 2   \n",
       "7       Machine Learning AI Data Scientist   \n",
       "8  Sr. Associate Consultant Data Scientist   \n",
       "9  Senior Engineer - AIML - Data Scientist   \n",
       "\n",
       "                                CompanyName  \\\n",
       "0                                 Aviso Inc   \n",
       "1                                  Snaphunt   \n",
       "2                            Ally-Executive   \n",
       "3                                      Visa   \n",
       "4                        Scienaptic Systems   \n",
       "5                 Samya.AI A FRACTAL Entity   \n",
       "6                ANI Technologies Pvt. Ltd.   \n",
       "7  EKO Infomatics Solutions Private Limited   \n",
       "8                     Eli Lilly and Company   \n",
       "9                                    Unisys   \n",
       "\n",
       "                                         joblocation  \n",
       "0  Mumbai, Hyderabad/Secunderabad, Pune, Delhi / ...  \n",
       "1                                Bangalore/Bengaluru  \n",
       "2                                Bangalore/Bengaluru  \n",
       "3                                Bangalore/Bengaluru  \n",
       "4                                Bangalore/Bengaluru  \n",
       "5            Bangalore/Bengaluru\\n(WFH during Covid)  \n",
       "6                                Bangalore/Bengaluru  \n",
       "7                                Bangalore/Bengaluru  \n",
       "8                                Bangalore/Bengaluru  \n",
       "9                                Bangalore/Bengaluru  "
      ]
     },
     "execution_count": 37,
     "metadata": {},
     "output_type": "execute_result"
    }
   ],
   "source": [
    "job[0:10]"
   ]
  },
  {
   "cell_type": "raw",
   "id": "e66b72bd",
   "metadata": {},
   "source": [
    "Q.6 Webscrapping from FlipKart.com for Seakers"
   ]
  },
  {
   "cell_type": "code",
   "execution_count": 4,
   "id": "c156f328",
   "metadata": {},
   "outputs": [
    {
     "name": "stderr",
     "output_type": "stream",
     "text": [
      "<ipython-input-4-33c0716558c7>:1: DeprecationWarning: executable_path has been deprecated, please pass in a Service object\n",
      "  driver = webdriver.Chrome(r\"C:/Users/20130368/Desktop/Python/Internship/chromedriver_win32/chromedriver.exe\")\n"
     ]
    }
   ],
   "source": [
    "driver = webdriver.Chrome(r\"C:/Users/20130368/Desktop/Python/Internship/chromedriver_win32/chromedriver.exe\")"
   ]
  },
  {
   "cell_type": "code",
   "execution_count": null,
   "id": "3fd68e30",
   "metadata": {},
   "outputs": [],
   "source": []
  },
  {
   "cell_type": "code",
   "execution_count": 5,
   "id": "a014834c",
   "metadata": {},
   "outputs": [],
   "source": [
    "driver.get(\"https://www.flipkart.com/\")"
   ]
  },
  {
   "cell_type": "code",
   "execution_count": 7,
   "id": "c9ec309a",
   "metadata": {},
   "outputs": [
    {
     "name": "stderr",
     "output_type": "stream",
     "text": [
      "<ipython-input-7-1b19ef25d2e9>:1: DeprecationWarning: find_element_by_* commands are deprecated. Please use find_element() instead\n",
      "  search_seankers= driver.find_element_by_name('q')\n"
     ]
    }
   ],
   "source": [
    "search_seankers= driver.find_element_by_name('q')\n",
    "search_seankers.send_keys(\"Sneakers\")"
   ]
  },
  {
   "cell_type": "code",
   "execution_count": 8,
   "id": "af41b884",
   "metadata": {},
   "outputs": [
    {
     "name": "stderr",
     "output_type": "stream",
     "text": [
      "<ipython-input-8-8dc99695f07f>:1: DeprecationWarning: find_element_by_* commands are deprecated. Please use find_element() instead\n",
      "  search_btn = driver.find_element_by_xpath(\"//button[@class='L0Z3Pu']\")\n"
     ]
    }
   ],
   "source": [
    "search_btn = driver.find_element_by_xpath(\"//button[@class='L0Z3Pu']\")\n",
    "search_btn.click()"
   ]
  },
  {
   "cell_type": "code",
   "execution_count": 9,
   "id": "9e76e2b6",
   "metadata": {},
   "outputs": [],
   "source": [
    "Brand=[]\n",
    "ProductDescrp=[]\n",
    "Price = []"
   ]
  },
  {
   "cell_type": "code",
   "execution_count": 11,
   "id": "0cb42f37",
   "metadata": {},
   "outputs": [
    {
     "name": "stderr",
     "output_type": "stream",
     "text": [
      "<ipython-input-11-b305b3476ff8>:1: DeprecationWarning: find_elements_by_* commands are deprecated. Please use find_elements() instead\n",
      "  brand_tags = driver.find_elements_by_xpath(\"//div[@class='_2WkVRV']\")\n"
     ]
    },
    {
     "data": {
      "text/plain": [
       "[<selenium.webdriver.remote.webelement.WebElement (session=\"d313ac36f866ade4150fe6ecddcacb0e\", element=\"648d66fd-9efd-4aec-82de-810fc8621474\")>,\n",
       " <selenium.webdriver.remote.webelement.WebElement (session=\"d313ac36f866ade4150fe6ecddcacb0e\", element=\"bbcbaecd-f751-4f6b-b453-d353cdb21a01\")>]"
      ]
     },
     "execution_count": 11,
     "metadata": {},
     "output_type": "execute_result"
    }
   ],
   "source": [
    "brand_tags = driver.find_elements_by_xpath(\"//div[@class='_2WkVRV']\")\n",
    "brand_tags[0:2]"
   ]
  },
  {
   "cell_type": "code",
   "execution_count": null,
   "id": "da001238",
   "metadata": {},
   "outputs": [],
   "source": []
  },
  {
   "cell_type": "code",
   "execution_count": 12,
   "id": "46f69eeb",
   "metadata": {},
   "outputs": [
    {
     "data": {
      "text/plain": [
       "['URBANBOX',\n",
       " 'Chevit',\n",
       " 'BRUTON',\n",
       " 'Wlinzak',\n",
       " 'Magnolia',\n",
       " 'BIRDE',\n",
       " 'T-ROCK',\n",
       " 'PUMA',\n",
       " 'Shoes Bank',\n",
       " 'Numenzo',\n",
       " 'Numenzo',\n",
       " 'JACK & JONES',\n",
       " 'Edoeviv',\n",
       " 'Kraasa',\n",
       " 'ganpati traders',\n",
       " 'LEE COOPER',\n",
       " 'SCATCHITE',\n",
       " 'RapidBox',\n",
       " 'Clymb',\n",
       " 'PUMA',\n",
       " 'BIRDE',\n",
       " 'Labbin',\n",
       " 'BIRDE',\n",
       " 'PUMA',\n",
       " 'Rzisbo',\n",
       " 'D-SNEAKERZ',\n",
       " 'Chevit',\n",
       " 'PUMA',\n",
       " 'Robbie jones',\n",
       " 'Extoes',\n",
       " 'aadi',\n",
       " 'PUMA',\n",
       " 'ESSENCE',\n",
       " 'ASTEROID',\n",
       " 'aadi',\n",
       " 'LEE COOPER',\n",
       " 'BIRDE',\n",
       " 'BIRDE',\n",
       " 'BIRDE',\n",
       " 'PUMA']"
      ]
     },
     "execution_count": 12,
     "metadata": {},
     "output_type": "execute_result"
    }
   ],
   "source": [
    "for i in brand_tags:\n",
    "    brand = i.text\n",
    "    Brand.append(brand)\n",
    "    \n",
    "Brand"
   ]
  },
  {
   "cell_type": "code",
   "execution_count": 13,
   "id": "10a44e5d",
   "metadata": {},
   "outputs": [
    {
     "name": "stderr",
     "output_type": "stream",
     "text": [
      "<ipython-input-13-d750ed36202c>:1: DeprecationWarning: find_elements_by_* commands are deprecated. Please use find_elements() instead\n",
      "  prod = driver.find_elements_by_xpath(\"//a[@class='IRpwTa']\")\n"
     ]
    },
    {
     "data": {
      "text/plain": [
       "[<selenium.webdriver.remote.webelement.WebElement (session=\"d313ac36f866ade4150fe6ecddcacb0e\", element=\"e10115a2-8e7f-483e-a95e-d766f1328e72\")>,\n",
       " <selenium.webdriver.remote.webelement.WebElement (session=\"d313ac36f866ade4150fe6ecddcacb0e\", element=\"11f4b990-2931-4988-95dd-3b9882fa80d4\")>]"
      ]
     },
     "execution_count": 13,
     "metadata": {},
     "output_type": "execute_result"
    }
   ],
   "source": [
    "prod = driver.find_elements_by_xpath(\"//a[@class='IRpwTa']\")\n",
    "prod[0:2]"
   ]
  },
  {
   "cell_type": "code",
   "execution_count": 14,
   "id": "e14e17d1",
   "metadata": {},
   "outputs": [
    {
     "data": {
      "text/plain": [
       "['Super Stylish & Trendy Combo Pack of 02 Pairs Sneakers ...',\n",
       " 'Modern Trendy Sneakers Shoes Sneakers For Men',\n",
       " 'Sneakers For Men',\n",
       " 'Sports Running Shoes Sneakers For Men',\n",
       " 'Synthetic Leather Casual Partywear Wedding Sneakers Sho...',\n",
       " 'Puma Smash v2 Buck Sneakers For Men',\n",
       " \"White Sneaker For Men's/Boy's Sneakers For Men\",\n",
       " 'White Sneaker For Men Sneakers For Men',\n",
       " '411 Casual Sneakers For Men',\n",
       " \"Luxury Branded Fashionable Men's Casual Walking Partywe...\",\n",
       " 'Shark-41 Sneakers For Men',\n",
       " 'Sneakers For Men',\n",
       " 'Sneakers Sneakers For Men',\n",
       " 'Sneakers For Men',\n",
       " 'Combo Pack of 2 Casual Shoes Sneakers For Men',\n",
       " 'Sneakers For Men',\n",
       " 'Casual Shoes Sneakers For Men',\n",
       " 'Sneakers For Men',\n",
       " \"Casual , Partywear Sneakers Shoes For Men's And Boys Wh...\",\n",
       " 'Unique & Perfect Collection Combo Pack of 02 Shoes for ...',\n",
       " 'PUMA X 1DER KL RAHUL Sneakers For Men',\n",
       " 'Casual Sneakers Black Shoes For Men Sneakers For Men',\n",
       " 'Modern Trendy Shoes Combo pack of 4 Sneakers For Men',\n",
       " 'Sneakers For Men',\n",
       " 'Luxury Fashionable casual sneaker shoes and partywear s...',\n",
       " \"Original Luxury Branded Fashionable Men's Casual Walkin...\",\n",
       " 'Sneakers For Men',\n",
       " 'Sneakers For Men',\n",
       " 'Birde Trendy Casual Shoes Sneakers For Men',\n",
       " 'Birde Trendy Casual Shoes Sneakers For Men',\n",
       " 'Combo Pack of 2 Casual Shoes Sneakers For Men',\n",
       " 'FUTURE RIDER PLAY ON Sneakers For Men']"
      ]
     },
     "execution_count": 14,
     "metadata": {},
     "output_type": "execute_result"
    }
   ],
   "source": [
    "for i in prod:\n",
    "    pdescrp = i.text\n",
    "    ProductDescrp.append(pdescrp)\n",
    "ProductDescrp"
   ]
  },
  {
   "cell_type": "code",
   "execution_count": 15,
   "id": "e3800d18",
   "metadata": {},
   "outputs": [
    {
     "name": "stderr",
     "output_type": "stream",
     "text": [
      "<ipython-input-15-b3863d27755b>:1: DeprecationWarning: find_elements_by_* commands are deprecated. Please use find_elements() instead\n",
      "  pric = driver.find_elements_by_xpath(\"//div[@class='_30jeq3']\")\n"
     ]
    },
    {
     "data": {
      "text/plain": [
       "[<selenium.webdriver.remote.webelement.WebElement (session=\"d313ac36f866ade4150fe6ecddcacb0e\", element=\"d576317c-cf63-4b07-bfc1-84b67066554d\")>,\n",
       " <selenium.webdriver.remote.webelement.WebElement (session=\"d313ac36f866ade4150fe6ecddcacb0e\", element=\"0bfb62d2-1ee9-4c87-b92b-3501a8bfb099\")>]"
      ]
     },
     "execution_count": 15,
     "metadata": {},
     "output_type": "execute_result"
    }
   ],
   "source": [
    "pric = driver.find_elements_by_xpath(\"//div[@class='_30jeq3']\")\n",
    "pric[0:2]"
   ]
  },
  {
   "cell_type": "code",
   "execution_count": 17,
   "id": "b40066d9",
   "metadata": {},
   "outputs": [
    {
     "data": {
      "text/plain": [
       "['₹220',\n",
       " '₹536',\n",
       " '₹299',\n",
       " '₹475',\n",
       " '₹398',\n",
       " '₹299',\n",
       " '₹379',\n",
       " '₹1,749',\n",
       " '₹331',\n",
       " '₹479',\n",
       " '₹499',\n",
       " '₹999',\n",
       " '₹499',\n",
       " '₹444',\n",
       " '₹183',\n",
       " '₹1,374',\n",
       " '₹398',\n",
       " '₹680',\n",
       " '₹649',\n",
       " '₹2,799',\n",
       " '₹422',\n",
       " '₹474',\n",
       " '₹311',\n",
       " '₹2,699',\n",
       " '₹549',\n",
       " '₹348',\n",
       " '₹420',\n",
       " '₹1,800',\n",
       " '₹451',\n",
       " '₹898',\n",
       " '₹399',\n",
       " '₹5,399',\n",
       " '₹399',\n",
       " '₹474',\n",
       " '₹319',\n",
       " '₹1,484',\n",
       " '₹299',\n",
       " '₹299',\n",
       " '₹423',\n",
       " '₹3,149']"
      ]
     },
     "execution_count": 17,
     "metadata": {},
     "output_type": "execute_result"
    }
   ],
   "source": [
    "for i in pric:\n",
    "    price=i.text\n",
    "    Price.append(price)\n",
    "Price"
   ]
  },
  {
   "cell_type": "code",
   "execution_count": 18,
   "id": "b380d962",
   "metadata": {},
   "outputs": [
    {
     "name": "stdout",
     "output_type": "stream",
     "text": [
      "40 32 40\n"
     ]
    }
   ],
   "source": [
    "print(len(Brand),len(ProductDescrp),len(Price))"
   ]
  },
  {
   "cell_type": "code",
   "execution_count": null,
   "id": "e9d85793",
   "metadata": {},
   "outputs": [],
   "source": []
  },
  {
   "cell_type": "code",
   "execution_count": null,
   "id": "e0b63e55",
   "metadata": {},
   "outputs": [],
   "source": []
  },
  {
   "cell_type": "code",
   "execution_count": null,
   "id": "72f2c12b",
   "metadata": {},
   "outputs": [],
   "source": []
  },
  {
   "cell_type": "code",
   "execution_count": null,
   "id": "6057e1f4",
   "metadata": {},
   "outputs": [],
   "source": []
  },
  {
   "cell_type": "code",
   "execution_count": null,
   "id": "169ca5e3",
   "metadata": {},
   "outputs": [],
   "source": []
  },
  {
   "cell_type": "raw",
   "id": "84b3dbc1",
   "metadata": {},
   "source": [
    "Q9: Write a python program to scrape data for first 10 job results for Data Scientist Designation in Noida\n",
    "location. You have to scrape company name, No. of days ago when job was posted, Rating of the company.\n",
    "This task will be done in following steps:"
   ]
  },
  {
   "cell_type": "code",
   "execution_count": 19,
   "id": "80165684",
   "metadata": {},
   "outputs": [],
   "source": [
    "# Importinng different Libraries\n",
    "import selenium\n",
    "import pandas as pd\n",
    "from selenium import webdriver"
   ]
  },
  {
   "cell_type": "code",
   "execution_count": 20,
   "id": "c699949e",
   "metadata": {},
   "outputs": [
    {
     "name": "stderr",
     "output_type": "stream",
     "text": [
      "<ipython-input-20-33c0716558c7>:1: DeprecationWarning: executable_path has been deprecated, please pass in a Service object\n",
      "  driver = webdriver.Chrome(r\"C:/Users/20130368/Desktop/Python/Internship/chromedriver_win32/chromedriver.exe\")\n"
     ]
    }
   ],
   "source": [
    "driver = webdriver.Chrome(r\"C:/Users/20130368/Desktop/Python/Internship/chromedriver_win32/chromedriver.exe\")"
   ]
  },
  {
   "cell_type": "code",
   "execution_count": 21,
   "id": "9bca78b0",
   "metadata": {},
   "outputs": [],
   "source": [
    "driver.get(\"https://www.ambitionbox.com/\")"
   ]
  },
  {
   "cell_type": "code",
   "execution_count": 22,
   "id": "fb45a4b8",
   "metadata": {},
   "outputs": [
    {
     "name": "stderr",
     "output_type": "stream",
     "text": [
      "<ipython-input-22-f14993e8cf8c>:1: DeprecationWarning: find_element_by_* commands are deprecated. Please use find_element() instead\n",
      "  job_btn = driver.find_element_by_xpath(\"//a[@class='link jobs']\")\n"
     ]
    }
   ],
   "source": [
    "job_btn = driver.find_element_by_xpath(\"//a[@class='link jobs']\")\n",
    "job_btn.click()"
   ]
  },
  {
   "cell_type": "code",
   "execution_count": 23,
   "id": "77a5487e",
   "metadata": {},
   "outputs": [
    {
     "name": "stderr",
     "output_type": "stream",
     "text": [
      "<ipython-input-23-24e92d6c3ed4>:1: DeprecationWarning: find_element_by_* commands are deprecated. Please use find_element() instead\n",
      "  job_search = driver.find_element_by_name('ab_jobsSearch')\n"
     ]
    }
   ],
   "source": [
    "job_search = driver.find_element_by_name('ab_jobsSearch')\n",
    "job_search.send_keys(\"DATA Scientist\")"
   ]
  },
  {
   "cell_type": "code",
   "execution_count": 24,
   "id": "3c7a2a8c",
   "metadata": {},
   "outputs": [
    {
     "name": "stderr",
     "output_type": "stream",
     "text": [
      "<ipython-input-24-a54c22ad6209>:1: DeprecationWarning: find_element_by_* commands are deprecated. Please use find_element() instead\n",
      "  search_btn = driver.find_element_by_xpath(\"//button[@class='ab_btn search-btn round']\")\n"
     ]
    }
   ],
   "source": [
    "search_btn = driver.find_element_by_xpath(\"//button[@class='ab_btn search-btn round']\")\n",
    "search_btn.click()"
   ]
  },
  {
   "cell_type": "code",
   "execution_count": 42,
   "id": "3df36a22",
   "metadata": {},
   "outputs": [
    {
     "name": "stderr",
     "output_type": "stream",
     "text": [
      "<ipython-input-42-bf65df2f5e17>:1: DeprecationWarning: find_element_by_* commands are deprecated. Please use find_element() instead\n",
      "  loc_btn = driver.find_element_by_xpath(\"/html/body/div/div/div/div[2]/div[2]/div[1]/div/div/div/div[2]\")\n"
     ]
    }
   ],
   "source": [
    "loc_btn = driver.find_element_by_xpath(\"/html/body/div/div/div/div[2]/div[2]/div[1]/div/div/div/div[2]\")\n",
    "loc_btn.click()"
   ]
  },
  {
   "cell_type": "code",
   "execution_count": null,
   "id": "13a4b0bb",
   "metadata": {},
   "outputs": [],
   "source": []
  },
  {
   "cell_type": "code",
   "execution_count": 43,
   "id": "14bfebb1",
   "metadata": {},
   "outputs": [
    {
     "name": "stderr",
     "output_type": "stream",
     "text": [
      "<ipython-input-43-d166e6e74fbe>:1: DeprecationWarning: find_element_by_* commands are deprecated. Please use find_element() instead\n",
      "  jobloca_search = driver.find_element_by_xpath(\"/html/body/div/div/div/div[2]/div[2]/div[1]/div/div/div/div[2]/div[2]/div/div[2]/input\")\n"
     ]
    }
   ],
   "source": [
    "jobloca_search = driver.find_element_by_xpath(\"/html/body/div/div/div/div[2]/div[2]/div[1]/div/div/div/div[2]/div[2]/div/div[2]/input\")\n",
    "jobloca_search.send_keys(\"Noida\")"
   ]
  },
  {
   "cell_type": "code",
   "execution_count": 44,
   "id": "5af39c13",
   "metadata": {},
   "outputs": [
    {
     "name": "stderr",
     "output_type": "stream",
     "text": [
      "<ipython-input-44-859767e4889f>:1: DeprecationWarning: find_element_by_* commands are deprecated. Please use find_element() instead\n",
      "  selec_btn = driver.find_element_by_xpath(\"/html/body/div/div/div/div[2]/div[2]/div[1]/div/div/div/div[2]/div[2]/div/div[3]/div[1]/div[1]/div/label\")\n"
     ]
    }
   ],
   "source": [
    "selec_btn = driver.find_element_by_xpath(\"/html/body/div/div/div/div[2]/div[2]/div[1]/div/div/div/div[2]/div[2]/div/div[3]/div[1]/div[1]/div/label\")\n",
    "selec_btn.click()"
   ]
  },
  {
   "cell_type": "code",
   "execution_count": 50,
   "id": "b3701bc2",
   "metadata": {},
   "outputs": [],
   "source": [
    "Job_Title=[]\n",
    "Company=[]\n",
    "Exp=[]"
   ]
  },
  {
   "cell_type": "code",
   "execution_count": 48,
   "id": "a24c6285",
   "metadata": {},
   "outputs": [
    {
     "name": "stderr",
     "output_type": "stream",
     "text": [
      "<ipython-input-48-011d109d2beb>:1: DeprecationWarning: find_elements_by_* commands are deprecated. Please use find_elements() instead\n",
      "  title_tag = driver.find_elements_by_xpath(\"//a[@class = 'title noclick']\")\n"
     ]
    },
    {
     "data": {
      "text/plain": [
       "[<selenium.webdriver.remote.webelement.WebElement (session=\"236b1f2c2473b9fe0262d1db5095ce18\", element=\"f00ba4ef-9388-4e7e-bd1c-5a8fe115d029\")>,\n",
       " <selenium.webdriver.remote.webelement.WebElement (session=\"236b1f2c2473b9fe0262d1db5095ce18\", element=\"48560d89-471b-4b8e-9c5a-22b2591ad110\")>]"
      ]
     },
     "execution_count": 48,
     "metadata": {},
     "output_type": "execute_result"
    }
   ],
   "source": [
    "title_tag = driver.find_elements_by_xpath(\"//a[@class = 'title noclick']\")\n",
    "title_tag[0:2]"
   ]
  },
  {
   "cell_type": "code",
   "execution_count": 51,
   "id": "92c2a664",
   "metadata": {},
   "outputs": [
    {
     "data": {
      "text/plain": [
       "['Data Scientist',\n",
       " 'Manager - Data Scientist',\n",
       " 'Manager - Data Scientist',\n",
       " 'NTT DATA_ Hiring For BIG DATA ,DATA Scientist, Devops',\n",
       " 'Assistant Manager - Data Scientist',\n",
       " 'Data Science - Senior Data Scientist',\n",
       " 'Data Scientist - Consulting Firm (8-15 yrs)',\n",
       " 'Manager - Data Scientist - Retail/BFSI (8-15 yrs)',\n",
       " 'Data Scientist - Data Science/Model Development (0-6 yrs)',\n",
       " 'Urgent Requirement || Data Scientist || Noida']"
      ]
     },
     "execution_count": 51,
     "metadata": {},
     "output_type": "execute_result"
    }
   ],
   "source": [
    "for i in title_tag:\n",
    "    job=i.text\n",
    "    Job_Title.append(job)\n",
    "Job_Title"
   ]
  },
  {
   "cell_type": "code",
   "execution_count": 52,
   "id": "2173edb7",
   "metadata": {},
   "outputs": [
    {
     "name": "stderr",
     "output_type": "stream",
     "text": [
      "<ipython-input-52-f09677bb9a2b>:1: DeprecationWarning: find_elements_by_* commands are deprecated. Please use find_elements() instead\n",
      "  Comp_tag = driver.find_elements_by_xpath(\"//p[@class = 'company body-medium']\")\n"
     ]
    },
    {
     "data": {
      "text/plain": [
       "[<selenium.webdriver.remote.webelement.WebElement (session=\"236b1f2c2473b9fe0262d1db5095ce18\", element=\"52ea9549-3637-4c43-99da-7e70d112ca10\")>,\n",
       " <selenium.webdriver.remote.webelement.WebElement (session=\"236b1f2c2473b9fe0262d1db5095ce18\", element=\"b75d7e30-6dda-4f1f-b118-230a937056ad\")>]"
      ]
     },
     "execution_count": 52,
     "metadata": {},
     "output_type": "execute_result"
    }
   ],
   "source": [
    "Comp_tag = driver.find_elements_by_xpath(\"//p[@class = 'company body-medium']\")\n",
    "Comp_tag[0:2]"
   ]
  },
  {
   "cell_type": "code",
   "execution_count": 53,
   "id": "c6cfebd5",
   "metadata": {},
   "outputs": [
    {
     "data": {
      "text/plain": [
       "['LG Electronics India Pvt. Ltd.',\n",
       " 'GENPACT India Private Limited',\n",
       " 'GENPACT India Private Limited',\n",
       " 'NTT Data Business Solutions Pvt Ltd',\n",
       " 'GENPACT India Private Limited',\n",
       " 'Paytm',\n",
       " 'GI Group',\n",
       " 'GI Group',\n",
       " 'GI Group',\n",
       " 'Steria India Ltd']"
      ]
     },
     "execution_count": 53,
     "metadata": {},
     "output_type": "execute_result"
    }
   ],
   "source": [
    "for i in Comp_tag:\n",
    "    Comp=i.text\n",
    "    Company.append(Comp)\n",
    "Company"
   ]
  },
  {
   "cell_type": "code",
   "execution_count": 66,
   "id": "5251ae4d",
   "metadata": {},
   "outputs": [
    {
     "name": "stdout",
     "output_type": "stream",
     "text": [
      "10 10\n"
     ]
    }
   ],
   "source": [
    "print(len(Job_Title),len(Company))"
   ]
  },
  {
   "cell_type": "code",
   "execution_count": 68,
   "id": "6a1666b9",
   "metadata": {},
   "outputs": [],
   "source": [
    "job=pd.DataFrame({})\n",
    "job['Title']=Job_Title\n",
    "job['CompanyName']= Company"
   ]
  },
  {
   "cell_type": "code",
   "execution_count": 69,
   "id": "587749b6",
   "metadata": {},
   "outputs": [
    {
     "data": {
      "text/html": [
       "<div>\n",
       "<style scoped>\n",
       "    .dataframe tbody tr th:only-of-type {\n",
       "        vertical-align: middle;\n",
       "    }\n",
       "\n",
       "    .dataframe tbody tr th {\n",
       "        vertical-align: top;\n",
       "    }\n",
       "\n",
       "    .dataframe thead th {\n",
       "        text-align: right;\n",
       "    }\n",
       "</style>\n",
       "<table border=\"1\" class=\"dataframe\">\n",
       "  <thead>\n",
       "    <tr style=\"text-align: right;\">\n",
       "      <th></th>\n",
       "      <th>Title</th>\n",
       "      <th>CompanyName</th>\n",
       "    </tr>\n",
       "  </thead>\n",
       "  <tbody>\n",
       "    <tr>\n",
       "      <th>0</th>\n",
       "      <td>Data Scientist</td>\n",
       "      <td>LG Electronics India Pvt. Ltd.</td>\n",
       "    </tr>\n",
       "    <tr>\n",
       "      <th>1</th>\n",
       "      <td>Manager - Data Scientist</td>\n",
       "      <td>GENPACT India Private Limited</td>\n",
       "    </tr>\n",
       "    <tr>\n",
       "      <th>2</th>\n",
       "      <td>Manager - Data Scientist</td>\n",
       "      <td>GENPACT India Private Limited</td>\n",
       "    </tr>\n",
       "    <tr>\n",
       "      <th>3</th>\n",
       "      <td>NTT DATA_ Hiring For BIG DATA ,DATA Scientist,...</td>\n",
       "      <td>NTT Data Business Solutions Pvt Ltd</td>\n",
       "    </tr>\n",
       "    <tr>\n",
       "      <th>4</th>\n",
       "      <td>Assistant Manager - Data Scientist</td>\n",
       "      <td>GENPACT India Private Limited</td>\n",
       "    </tr>\n",
       "    <tr>\n",
       "      <th>5</th>\n",
       "      <td>Data Science - Senior Data Scientist</td>\n",
       "      <td>Paytm</td>\n",
       "    </tr>\n",
       "    <tr>\n",
       "      <th>6</th>\n",
       "      <td>Data Scientist - Consulting Firm (8-15 yrs)</td>\n",
       "      <td>GI Group</td>\n",
       "    </tr>\n",
       "    <tr>\n",
       "      <th>7</th>\n",
       "      <td>Manager - Data Scientist - Retail/BFSI (8-15 yrs)</td>\n",
       "      <td>GI Group</td>\n",
       "    </tr>\n",
       "    <tr>\n",
       "      <th>8</th>\n",
       "      <td>Data Scientist - Data Science/Model Developmen...</td>\n",
       "      <td>GI Group</td>\n",
       "    </tr>\n",
       "    <tr>\n",
       "      <th>9</th>\n",
       "      <td>Urgent Requirement || Data Scientist || Noida</td>\n",
       "      <td>Steria India Ltd</td>\n",
       "    </tr>\n",
       "  </tbody>\n",
       "</table>\n",
       "</div>"
      ],
      "text/plain": [
       "                                               Title  \\\n",
       "0                                     Data Scientist   \n",
       "1                           Manager - Data Scientist   \n",
       "2                           Manager - Data Scientist   \n",
       "3  NTT DATA_ Hiring For BIG DATA ,DATA Scientist,...   \n",
       "4                 Assistant Manager - Data Scientist   \n",
       "5               Data Science - Senior Data Scientist   \n",
       "6        Data Scientist - Consulting Firm (8-15 yrs)   \n",
       "7  Manager - Data Scientist - Retail/BFSI (8-15 yrs)   \n",
       "8  Data Scientist - Data Science/Model Developmen...   \n",
       "9      Urgent Requirement || Data Scientist || Noida   \n",
       "\n",
       "                           CompanyName  \n",
       "0       LG Electronics India Pvt. Ltd.  \n",
       "1        GENPACT India Private Limited  \n",
       "2        GENPACT India Private Limited  \n",
       "3  NTT Data Business Solutions Pvt Ltd  \n",
       "4        GENPACT India Private Limited  \n",
       "5                                Paytm  \n",
       "6                             GI Group  \n",
       "7                             GI Group  \n",
       "8                             GI Group  \n",
       "9                     Steria India Ltd  "
      ]
     },
     "execution_count": 69,
     "metadata": {},
     "output_type": "execute_result"
    }
   ],
   "source": [
    "job"
   ]
  },
  {
   "cell_type": "code",
   "execution_count": null,
   "id": "eda5d41f",
   "metadata": {
    "collapsed": true
   },
   "outputs": [],
   "source": []
  },
  {
   "cell_type": "code",
   "execution_count": null,
   "id": "122f519d",
   "metadata": {},
   "outputs": [],
   "source": []
  },
  {
   "cell_type": "code",
   "execution_count": null,
   "id": "ffbe6e4a",
   "metadata": {},
   "outputs": [],
   "source": []
  },
  {
   "cell_type": "code",
   "execution_count": null,
   "id": "4907fab6",
   "metadata": {},
   "outputs": [],
   "source": []
  },
  {
   "cell_type": "code",
   "execution_count": null,
   "id": "b03ca0f0",
   "metadata": {},
   "outputs": [],
   "source": []
  },
  {
   "cell_type": "code",
   "execution_count": null,
   "id": "bfb3dd45",
   "metadata": {},
   "outputs": [],
   "source": []
  },
  {
   "cell_type": "code",
   "execution_count": null,
   "id": "077741c2",
   "metadata": {},
   "outputs": [],
   "source": []
  },
  {
   "cell_type": "code",
   "execution_count": null,
   "id": "fb714a06",
   "metadata": {},
   "outputs": [],
   "source": []
  },
  {
   "cell_type": "code",
   "execution_count": null,
   "id": "a697c2c8",
   "metadata": {},
   "outputs": [],
   "source": []
  },
  {
   "cell_type": "code",
   "execution_count": null,
   "id": "67b653a4",
   "metadata": {},
   "outputs": [],
   "source": []
  },
  {
   "cell_type": "code",
   "execution_count": null,
   "id": "f7b1393f",
   "metadata": {},
   "outputs": [],
   "source": []
  },
  {
   "cell_type": "code",
   "execution_count": null,
   "id": "43382bdd",
   "metadata": {},
   "outputs": [],
   "source": []
  },
  {
   "cell_type": "code",
   "execution_count": null,
   "id": "c02e82e6",
   "metadata": {},
   "outputs": [],
   "source": []
  },
  {
   "cell_type": "code",
   "execution_count": null,
   "id": "5f0a9781",
   "metadata": {},
   "outputs": [],
   "source": []
  },
  {
   "cell_type": "code",
   "execution_count": null,
   "id": "39b6ef56",
   "metadata": {},
   "outputs": [],
   "source": []
  },
  {
   "cell_type": "code",
   "execution_count": null,
   "id": "a01976a8",
   "metadata": {},
   "outputs": [],
   "source": []
  },
  {
   "cell_type": "code",
   "execution_count": null,
   "id": "58ac1d1c",
   "metadata": {},
   "outputs": [],
   "source": []
  },
  {
   "cell_type": "code",
   "execution_count": null,
   "id": "7c0e2f86",
   "metadata": {},
   "outputs": [],
   "source": []
  },
  {
   "cell_type": "code",
   "execution_count": null,
   "id": "4a8b8b40",
   "metadata": {},
   "outputs": [],
   "source": []
  },
  {
   "cell_type": "code",
   "execution_count": null,
   "id": "b992a074",
   "metadata": {},
   "outputs": [],
   "source": []
  },
  {
   "cell_type": "code",
   "execution_count": null,
   "id": "03de3fcd",
   "metadata": {},
   "outputs": [],
   "source": []
  },
  {
   "cell_type": "code",
   "execution_count": null,
   "id": "bd252073",
   "metadata": {},
   "outputs": [],
   "source": []
  },
  {
   "cell_type": "code",
   "execution_count": null,
   "id": "6bde9643",
   "metadata": {},
   "outputs": [],
   "source": []
  },
  {
   "cell_type": "code",
   "execution_count": null,
   "id": "c61e538e",
   "metadata": {},
   "outputs": [],
   "source": []
  },
  {
   "cell_type": "code",
   "execution_count": null,
   "id": "906805b3",
   "metadata": {},
   "outputs": [],
   "source": []
  },
  {
   "cell_type": "code",
   "execution_count": null,
   "id": "95129322",
   "metadata": {},
   "outputs": [],
   "source": []
  },
  {
   "cell_type": "code",
   "execution_count": null,
   "id": "f13d7551",
   "metadata": {},
   "outputs": [],
   "source": []
  },
  {
   "cell_type": "code",
   "execution_count": null,
   "id": "cd98ce7d",
   "metadata": {},
   "outputs": [],
   "source": []
  },
  {
   "cell_type": "code",
   "execution_count": null,
   "id": "b910ebb5",
   "metadata": {},
   "outputs": [],
   "source": []
  },
  {
   "cell_type": "code",
   "execution_count": null,
   "id": "de6ba39d",
   "metadata": {},
   "outputs": [],
   "source": []
  },
  {
   "cell_type": "code",
   "execution_count": null,
   "id": "2011cb59",
   "metadata": {},
   "outputs": [],
   "source": []
  },
  {
   "cell_type": "code",
   "execution_count": null,
   "id": "9db1921d",
   "metadata": {},
   "outputs": [],
   "source": []
  },
  {
   "cell_type": "code",
   "execution_count": null,
   "id": "a3c07dd5",
   "metadata": {},
   "outputs": [],
   "source": []
  },
  {
   "cell_type": "code",
   "execution_count": null,
   "id": "c3aaf947",
   "metadata": {},
   "outputs": [],
   "source": []
  },
  {
   "cell_type": "code",
   "execution_count": null,
   "id": "2907945a",
   "metadata": {},
   "outputs": [],
   "source": []
  },
  {
   "cell_type": "code",
   "execution_count": null,
   "id": "bcd48ed3",
   "metadata": {},
   "outputs": [],
   "source": []
  },
  {
   "cell_type": "code",
   "execution_count": null,
   "id": "fae10c19",
   "metadata": {},
   "outputs": [],
   "source": []
  },
  {
   "cell_type": "code",
   "execution_count": null,
   "id": "6ff22c3c",
   "metadata": {},
   "outputs": [],
   "source": []
  },
  {
   "cell_type": "code",
   "execution_count": null,
   "id": "bb3266cd",
   "metadata": {},
   "outputs": [],
   "source": []
  },
  {
   "cell_type": "code",
   "execution_count": null,
   "id": "139a0c21",
   "metadata": {},
   "outputs": [],
   "source": []
  },
  {
   "cell_type": "code",
   "execution_count": null,
   "id": "0e03b27c",
   "metadata": {
    "collapsed": true
   },
   "outputs": [],
   "source": []
  },
  {
   "cell_type": "code",
   "execution_count": null,
   "id": "f44c37c8",
   "metadata": {},
   "outputs": [],
   "source": []
  },
  {
   "cell_type": "code",
   "execution_count": null,
   "id": "2dc56d69",
   "metadata": {},
   "outputs": [],
   "source": []
  },
  {
   "cell_type": "code",
   "execution_count": null,
   "id": "583f89c2",
   "metadata": {},
   "outputs": [],
   "source": []
  },
  {
   "cell_type": "code",
   "execution_count": null,
   "id": "57d77182",
   "metadata": {},
   "outputs": [],
   "source": []
  },
  {
   "cell_type": "code",
   "execution_count": null,
   "id": "e088ab43",
   "metadata": {},
   "outputs": [],
   "source": []
  }
 ],
 "metadata": {
  "kernelspec": {
   "display_name": "Python 3",
   "language": "python",
   "name": "python3"
  },
  "language_info": {
   "codemirror_mode": {
    "name": "ipython",
    "version": 3
   },
   "file_extension": ".py",
   "mimetype": "text/x-python",
   "name": "python",
   "nbconvert_exporter": "python",
   "pygments_lexer": "ipython3",
   "version": "3.8.8"
  }
 },
 "nbformat": 4,
 "nbformat_minor": 5
}
